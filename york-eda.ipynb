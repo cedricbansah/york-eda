{
 "cells": [
  {
   "cell_type": "markdown",
   "metadata": {},
   "source": [
    "The client initially wants the application to perform the following actions on the data:\n",
    "1.\tOutputs should not include any data from vendors that have a ‘PROGRAM STATUS’ of INACTIVE.\n",
    "2.\tThe ‘PE DESCRIPTION’ column contains information on the number and type of seating available at the vendor. Extract this out into a new column, retain all other information within that column. E.g.: \n",
    "    a.\t‘FOOD MKT RETAIL (1-1,999 SF) LOW RISK’, \n",
    "    b.\t‘RESTAURANT (61-150) SEATS LOW RISK’.  \n",
    "    c.\tExtract the greyed area out and retain the rest in the examples\n",
    "3.\tThe client initially needs information to generate the following and output the results using appropriate representation:\n",
    "    a.\tProduce the mean, mode and median for the inspection score per year:\n",
    "        i.\tFor each type of vendor’s seating\n",
    "        ii.\tFor each ‘zip code’\n",
    "4.\tProduce a suitable graph that displays the number of establishments that have committed each type of violation. You may need to consider how you group this data to make visualisation feasible\n",
    "5.\tDetermine if there is any significant correlation between the number of violations committed per vendor and their zip code, ‘Is there a tendency for facilities in specific locations to have more violations?’. You will need to select an appropriate visualisation to demonstrate this.\n"
   ]
  },
  {
   "cell_type": "code",
   "execution_count": 94,
   "metadata": {},
   "outputs": [],
   "source": [
    "import numpy as np\n",
    "import pandas as pd\n",
    "import seaborn as sns\n",
    "import matplotlib.pyplot as plt\n",
    "import re\n",
    "import warnings\n",
    "from scipy import stats\n",
    "warnings.filterwarnings('ignore')\n",
    "%matplotlib inline"
   ]
  },
  {
   "cell_type": "markdown",
   "metadata": {},
   "source": [
    "## Loading the dataets"
   ]
  },
  {
   "cell_type": "code",
   "execution_count": 95,
   "metadata": {},
   "outputs": [],
   "source": [
    "insp = pd.read_csv('Inspections.csv')\n",
    "inv = pd.read_csv('Inventory.csv')\n",
    "viol = pd.read_csv('violations.csv')"
   ]
  },
  {
   "cell_type": "code",
   "execution_count": 96,
   "metadata": {},
   "outputs": [
    {
     "name": "stdout",
     "output_type": "stream",
     "text": [
      "(206461, 25)\n",
      "(40616, 23)\n",
      "(954081, 5)\n"
     ]
    }
   ],
   "source": [
    "print(insp.shape)\n",
    "print(inv.shape)\n",
    "print(viol.shape)"
   ]
  },
  {
   "cell_type": "markdown",
   "metadata": {},
   "source": [
    "## Checking the features and data types of the datasets"
   ]
  },
  {
   "cell_type": "code",
   "execution_count": 97,
   "metadata": {},
   "outputs": [
    {
     "name": "stdout",
     "output_type": "stream",
     "text": [
      "<class 'pandas.core.frame.DataFrame'>\n",
      "RangeIndex: 206461 entries, 0 to 206460\n",
      "Data columns (total 25 columns):\n",
      " #   Column                                             Non-Null Count   Dtype  \n",
      "---  ------                                             --------------   -----  \n",
      " 0   ACTIVITY DATE                                      206461 non-null  object \n",
      " 1   OWNER ID                                           206461 non-null  object \n",
      " 2   OWNER NAME                                         206461 non-null  object \n",
      " 3   FACILITY ID                                        206461 non-null  object \n",
      " 4   FACILITY NAME                                      206461 non-null  object \n",
      " 5   RECORD ID                                          206461 non-null  object \n",
      " 6   PROGRAM NAME                                       206461 non-null  object \n",
      " 7   PROGRAM STATUS                                     206461 non-null  object \n",
      " 8   PROGRAM ELEMENT (PE)                               206461 non-null  int64  \n",
      " 9   PE DESCRIPTION                                     206461 non-null  object \n",
      " 10  FACILITY ADDRESS                                   206461 non-null  object \n",
      " 11  FACILITY CITY                                      206461 non-null  object \n",
      " 12  FACILITY STATE                                     206461 non-null  object \n",
      " 13  FACILITY ZIP                                       206461 non-null  object \n",
      " 14  SERVICE CODE                                       206461 non-null  int64  \n",
      " 15  SERVICE DESCRIPTION                                206461 non-null  object \n",
      " 16  SCORE                                              206302 non-null  float64\n",
      " 17  GRADE                                              206236 non-null  object \n",
      " 18  SERIAL NUMBER                                      206461 non-null  object \n",
      " 19  EMPLOYEE ID                                        206461 non-null  object \n",
      " 20  Location                                           192207 non-null  object \n",
      " 21  2011 Supervisorial District Boundaries (Official)  192152 non-null  float64\n",
      " 22  Census Tracts 2010                                 192112 non-null  float64\n",
      " 23  Board Approved Statistical Areas                   192149 non-null  float64\n",
      " 24  Zip Codes                                          192207 non-null  float64\n",
      "dtypes: float64(5), int64(2), object(18)\n",
      "memory usage: 39.4+ MB\n",
      "None\n",
      "<class 'pandas.core.frame.DataFrame'>\n",
      "RangeIndex: 40616 entries, 0 to 40615\n",
      "Data columns (total 23 columns):\n",
      " #   Column                                             Non-Null Count  Dtype  \n",
      "---  ------                                             --------------  -----  \n",
      " 0   FACILITY ID                                        40616 non-null  object \n",
      " 1   FACILITY NAME                                      40616 non-null  object \n",
      " 2   RECORD ID                                          40616 non-null  object \n",
      " 3    PROGRAM NAME                                      40616 non-null  object \n",
      " 4   PROGRAM ELEMENT (PE)                               40616 non-null  int64  \n",
      " 5   PE DESCRIPTION                                     40616 non-null  object \n",
      " 6   FACILITY ADDRESS                                   40616 non-null  object \n",
      " 7   FACILITY CITY                                      40616 non-null  object \n",
      " 8   FACILITY  STATE                                    40616 non-null  object \n",
      " 9   FACILITY ZIP                                       40616 non-null  object \n",
      " 10  FACILITY LATITUDE                                  40606 non-null  float64\n",
      " 11  FACILITY LONGITUDE                                 40606 non-null  float64\n",
      " 12  OWNER ID                                           40616 non-null  object \n",
      " 13  OWNER NAME                                         40616 non-null  object \n",
      " 14  OWNER ADDRESS                                      40616 non-null  object \n",
      " 15  OWNER CITY                                         40614 non-null  object \n",
      " 16  OWNER STATE                                        40586 non-null  object \n",
      " 17  OWNER ZIP                                          40613 non-null  object \n",
      " 18  Location                                           40606 non-null  object \n",
      " 19  Census Tracts 2010                                 40597 non-null  float64\n",
      " 20  2011 Supervisorial District Boundaries (Official)  40595 non-null  float64\n",
      " 21  Board Approved Statistical Areas                   40594 non-null  float64\n",
      " 22  Zip Codes                                          40603 non-null  float64\n",
      "dtypes: float64(6), int64(1), object(16)\n",
      "memory usage: 7.1+ MB\n",
      "None\n",
      "<class 'pandas.core.frame.DataFrame'>\n",
      "RangeIndex: 954081 entries, 0 to 954080\n",
      "Data columns (total 5 columns):\n",
      " #   Column                 Non-Null Count   Dtype \n",
      "---  ------                 --------------   ----- \n",
      " 0   SERIAL NUMBER          954081 non-null  object\n",
      " 1   VIOLATION  STATUS      954081 non-null  object\n",
      " 2   VIOLATION CODE         954081 non-null  object\n",
      " 3   VIOLATION DESCRIPTION  954081 non-null  object\n",
      " 4   POINTS                 954081 non-null  int64 \n",
      "dtypes: int64(1), object(4)\n",
      "memory usage: 36.4+ MB\n",
      "None\n"
     ]
    }
   ],
   "source": [
    "print(insp.info())\n",
    "print(inv.info())\n",
    "print(viol.info())"
   ]
  },
  {
   "cell_type": "markdown",
   "metadata": {},
   "source": [
    "1. Dropping entries with 'PROGRAM STATUS' of 'INACTIVE'"
   ]
  },
  {
   "cell_type": "code",
   "execution_count": 98,
   "metadata": {},
   "outputs": [
    {
     "data": {
      "text/plain": [
       "(183867, 25)"
      ]
     },
     "execution_count": 98,
     "metadata": {},
     "output_type": "execute_result"
    }
   ],
   "source": [
    "insp = insp.drop(insp[insp['PROGRAM STATUS'] == 'INACTIVE'].index, inplace = False, axis=0)\n",
    "insp.shape"
   ]
  },
  {
   "cell_type": "markdown",
   "metadata": {},
   "source": [
    "## 2. Extracting Seating information into a new column. "
   ]
  },
  {
   "cell_type": "code",
   "execution_count": 99,
   "metadata": {},
   "outputs": [],
   "source": [
    "#extract all characters in parentheses into the new column\n",
    "\n",
    "insp['PE DESCRIPTION NEW'] = insp['PE DESCRIPTION'].str.extract(r'\\((.+)\\)') "
   ]
  },
  {
   "cell_type": "code",
   "execution_count": 100,
   "metadata": {},
   "outputs": [],
   "source": [
    "#replace characters in parenthesis with an empty string\n",
    "\n",
    "insp['PE DESCRIPTION'] = insp['PE DESCRIPTION'].str.replace(r'\\((.+)\\)', '') "
   ]
  },
  {
   "cell_type": "code",
   "execution_count": 101,
   "metadata": {},
   "outputs": [
    {
     "data": {
      "text/plain": [
       "0    RESTAURANT  SEATS MODERATE RISK\n",
       "1    RESTAURANT  SEATS MODERATE RISK\n",
       "2    RESTAURANT  SEATS MODERATE RISK\n",
       "3    RESTAURANT  SEATS MODERATE RISK\n",
       "4        RESTAURANT  SEATS HIGH RISK\n",
       "Name: PE DESCRIPTION, dtype: object"
      ]
     },
     "execution_count": 101,
     "metadata": {},
     "output_type": "execute_result"
    }
   ],
   "source": [
    "insp['PE DESCRIPTION'].head()"
   ]
  },
  {
   "cell_type": "code",
   "execution_count": 102,
   "metadata": {},
   "outputs": [
    {
     "data": {
      "text/plain": [
       "0    0-30\n",
       "1    0-30\n",
       "2    0-30\n",
       "3    0-30\n",
       "4    0-30\n",
       "Name: PE DESCRIPTION NEW, dtype: object"
      ]
     },
     "execution_count": 102,
     "metadata": {},
     "output_type": "execute_result"
    }
   ],
   "source": [
    "#new column with seating info\n",
    "\n",
    "insp['PE DESCRIPTION NEW'].head() "
   ]
  },
  {
   "cell_type": "code",
   "execution_count": 103,
   "metadata": {},
   "outputs": [
    {
     "data": {
      "text/html": [
       "<div>\n",
       "<style scoped>\n",
       "    .dataframe tbody tr th:only-of-type {\n",
       "        vertical-align: middle;\n",
       "    }\n",
       "\n",
       "    .dataframe tbody tr th {\n",
       "        vertical-align: top;\n",
       "    }\n",
       "\n",
       "    .dataframe thead th {\n",
       "        text-align: right;\n",
       "    }\n",
       "</style>\n",
       "<table border=\"1\" class=\"dataframe\">\n",
       "  <thead>\n",
       "    <tr style=\"text-align: right;\">\n",
       "      <th></th>\n",
       "      <th>ACTIVITY DATE</th>\n",
       "      <th>OWNER ID</th>\n",
       "      <th>OWNER NAME</th>\n",
       "      <th>FACILITY ID</th>\n",
       "      <th>FACILITY NAME</th>\n",
       "      <th>RECORD ID</th>\n",
       "      <th>PROGRAM NAME</th>\n",
       "      <th>PROGRAM STATUS</th>\n",
       "      <th>PROGRAM ELEMENT (PE)</th>\n",
       "      <th>PE DESCRIPTION</th>\n",
       "      <th>...</th>\n",
       "      <th>SCORE</th>\n",
       "      <th>GRADE</th>\n",
       "      <th>SERIAL NUMBER</th>\n",
       "      <th>EMPLOYEE ID</th>\n",
       "      <th>Location</th>\n",
       "      <th>2011 Supervisorial District Boundaries (Official)</th>\n",
       "      <th>Census Tracts 2010</th>\n",
       "      <th>Board Approved Statistical Areas</th>\n",
       "      <th>Zip Codes</th>\n",
       "      <th>PE DESCRIPTION NEW</th>\n",
       "    </tr>\n",
       "  </thead>\n",
       "  <tbody>\n",
       "    <tr>\n",
       "      <th>0</th>\n",
       "      <td>08/23/2018</td>\n",
       "      <td>OW0000809</td>\n",
       "      <td>31</td>\n",
       "      <td>FA0019645</td>\n",
       "      <td>DREAM DINNERS</td>\n",
       "      <td>PR0045642</td>\n",
       "      <td>DREAM DINNERS</td>\n",
       "      <td>ACTIVE</td>\n",
       "      <td>1631</td>\n",
       "      <td>RESTAURANT  SEATS MODERATE RISK</td>\n",
       "      <td>...</td>\n",
       "      <td>97.0</td>\n",
       "      <td>A</td>\n",
       "      <td>DA2FXQNN6</td>\n",
       "      <td>EE0000126</td>\n",
       "      <td>POINT (-118.36927 33.826754)</td>\n",
       "      <td>4.0</td>\n",
       "      <td>820.0</td>\n",
       "      <td>102.0</td>\n",
       "      <td>25719.0</td>\n",
       "      <td>0-30</td>\n",
       "    </tr>\n",
       "    <tr>\n",
       "      <th>1</th>\n",
       "      <td>12/06/2017</td>\n",
       "      <td>OW0000809</td>\n",
       "      <td>31</td>\n",
       "      <td>FA0019645</td>\n",
       "      <td>DREAM DINNERS</td>\n",
       "      <td>PR0045642</td>\n",
       "      <td>DREAM DINNERS</td>\n",
       "      <td>ACTIVE</td>\n",
       "      <td>1631</td>\n",
       "      <td>RESTAURANT  SEATS MODERATE RISK</td>\n",
       "      <td>...</td>\n",
       "      <td>95.0</td>\n",
       "      <td>A</td>\n",
       "      <td>DACP43IQW</td>\n",
       "      <td>EE0000126</td>\n",
       "      <td>POINT (-118.36927 33.826754)</td>\n",
       "      <td>4.0</td>\n",
       "      <td>820.0</td>\n",
       "      <td>102.0</td>\n",
       "      <td>25719.0</td>\n",
       "      <td>0-30</td>\n",
       "    </tr>\n",
       "    <tr>\n",
       "      <th>2</th>\n",
       "      <td>06/23/2017</td>\n",
       "      <td>OW0000809</td>\n",
       "      <td>31</td>\n",
       "      <td>FA0019645</td>\n",
       "      <td>DREAM DINNERS</td>\n",
       "      <td>PR0045642</td>\n",
       "      <td>DREAM DINNERS</td>\n",
       "      <td>ACTIVE</td>\n",
       "      <td>1631</td>\n",
       "      <td>RESTAURANT  SEATS MODERATE RISK</td>\n",
       "      <td>...</td>\n",
       "      <td>96.0</td>\n",
       "      <td>A</td>\n",
       "      <td>DAEMVMRBY</td>\n",
       "      <td>EE0000126</td>\n",
       "      <td>POINT (-118.36927 33.826754)</td>\n",
       "      <td>4.0</td>\n",
       "      <td>820.0</td>\n",
       "      <td>102.0</td>\n",
       "      <td>25719.0</td>\n",
       "      <td>0-30</td>\n",
       "    </tr>\n",
       "    <tr>\n",
       "      <th>3</th>\n",
       "      <td>03/19/2019</td>\n",
       "      <td>OW0000809</td>\n",
       "      <td>31</td>\n",
       "      <td>FA0019645</td>\n",
       "      <td>DREAM DINNERS</td>\n",
       "      <td>PR0045642</td>\n",
       "      <td>DREAM DINNERS</td>\n",
       "      <td>ACTIVE</td>\n",
       "      <td>1631</td>\n",
       "      <td>RESTAURANT  SEATS MODERATE RISK</td>\n",
       "      <td>...</td>\n",
       "      <td>96.0</td>\n",
       "      <td>A</td>\n",
       "      <td>DANER68S4</td>\n",
       "      <td>EE0000126</td>\n",
       "      <td>POINT (-118.36927 33.826754)</td>\n",
       "      <td>4.0</td>\n",
       "      <td>820.0</td>\n",
       "      <td>102.0</td>\n",
       "      <td>25719.0</td>\n",
       "      <td>0-30</td>\n",
       "    </tr>\n",
       "    <tr>\n",
       "      <th>4</th>\n",
       "      <td>03/01/2018</td>\n",
       "      <td>OW0000002</td>\n",
       "      <td>#1 CAFE INC</td>\n",
       "      <td>FA0056432</td>\n",
       "      <td>#1 CAFE</td>\n",
       "      <td>PR0045100</td>\n",
       "      <td>#1 CAFE</td>\n",
       "      <td>ACTIVE</td>\n",
       "      <td>1632</td>\n",
       "      <td>RESTAURANT  SEATS HIGH RISK</td>\n",
       "      <td>...</td>\n",
       "      <td>90.0</td>\n",
       "      <td>A</td>\n",
       "      <td>DACZXQ74W</td>\n",
       "      <td>EE0000015</td>\n",
       "      <td>POINT (-118.412323 34.058815)</td>\n",
       "      <td>3.0</td>\n",
       "      <td>660.0</td>\n",
       "      <td>265.0</td>\n",
       "      <td>24032.0</td>\n",
       "      <td>0-30</td>\n",
       "    </tr>\n",
       "  </tbody>\n",
       "</table>\n",
       "<p>5 rows × 26 columns</p>\n",
       "</div>"
      ],
      "text/plain": [
       "  ACTIVITY DATE   OWNER ID   OWNER NAME FACILITY ID  FACILITY NAME  RECORD ID  \\\n",
       "0    08/23/2018  OW0000809           31   FA0019645  DREAM DINNERS  PR0045642   \n",
       "1    12/06/2017  OW0000809           31   FA0019645  DREAM DINNERS  PR0045642   \n",
       "2    06/23/2017  OW0000809           31   FA0019645  DREAM DINNERS  PR0045642   \n",
       "3    03/19/2019  OW0000809           31   FA0019645  DREAM DINNERS  PR0045642   \n",
       "4    03/01/2018  OW0000002  #1 CAFE INC   FA0056432        #1 CAFE  PR0045100   \n",
       "\n",
       "    PROGRAM NAME PROGRAM STATUS  PROGRAM ELEMENT (PE)  \\\n",
       "0  DREAM DINNERS         ACTIVE                  1631   \n",
       "1  DREAM DINNERS         ACTIVE                  1631   \n",
       "2  DREAM DINNERS         ACTIVE                  1631   \n",
       "3  DREAM DINNERS         ACTIVE                  1631   \n",
       "4        #1 CAFE         ACTIVE                  1632   \n",
       "\n",
       "                    PE DESCRIPTION  ... SCORE GRADE SERIAL NUMBER EMPLOYEE ID  \\\n",
       "0  RESTAURANT  SEATS MODERATE RISK  ...  97.0     A     DA2FXQNN6   EE0000126   \n",
       "1  RESTAURANT  SEATS MODERATE RISK  ...  95.0     A     DACP43IQW   EE0000126   \n",
       "2  RESTAURANT  SEATS MODERATE RISK  ...  96.0     A     DAEMVMRBY   EE0000126   \n",
       "3  RESTAURANT  SEATS MODERATE RISK  ...  96.0     A     DANER68S4   EE0000126   \n",
       "4      RESTAURANT  SEATS HIGH RISK  ...  90.0     A     DACZXQ74W   EE0000015   \n",
       "\n",
       "                        Location  \\\n",
       "0   POINT (-118.36927 33.826754)   \n",
       "1   POINT (-118.36927 33.826754)   \n",
       "2   POINT (-118.36927 33.826754)   \n",
       "3   POINT (-118.36927 33.826754)   \n",
       "4  POINT (-118.412323 34.058815)   \n",
       "\n",
       "  2011 Supervisorial District Boundaries (Official)  Census Tracts 2010  \\\n",
       "0                                               4.0               820.0   \n",
       "1                                               4.0               820.0   \n",
       "2                                               4.0               820.0   \n",
       "3                                               4.0               820.0   \n",
       "4                                               3.0               660.0   \n",
       "\n",
       "  Board Approved Statistical Areas Zip Codes PE DESCRIPTION NEW  \n",
       "0                            102.0   25719.0               0-30  \n",
       "1                            102.0   25719.0               0-30  \n",
       "2                            102.0   25719.0               0-30  \n",
       "3                            102.0   25719.0               0-30  \n",
       "4                            265.0   24032.0               0-30  \n",
       "\n",
       "[5 rows x 26 columns]"
      ]
     },
     "execution_count": 103,
     "metadata": {},
     "output_type": "execute_result"
    }
   ],
   "source": [
    "insp.head()"
   ]
  },
  {
   "cell_type": "markdown",
   "metadata": {},
   "source": [
    "## Grouping Inspection Score by Year, Zip Codes and Seating Info"
   ]
  },
  {
   "cell_type": "code",
   "execution_count": 104,
   "metadata": {},
   "outputs": [],
   "source": [
    "insp['ACTIVITY DATE'] = pd.to_datetime(insp['ACTIVITY DATE'])"
   ]
  },
  {
   "cell_type": "code",
   "execution_count": 105,
   "metadata": {},
   "outputs": [
    {
     "data": {
      "text/html": [
       "<div>\n",
       "<style scoped>\n",
       "    .dataframe tbody tr th:only-of-type {\n",
       "        vertical-align: middle;\n",
       "    }\n",
       "\n",
       "    .dataframe tbody tr th {\n",
       "        vertical-align: top;\n",
       "    }\n",
       "\n",
       "    .dataframe thead th {\n",
       "        text-align: right;\n",
       "    }\n",
       "</style>\n",
       "<table border=\"1\" class=\"dataframe\">\n",
       "  <thead>\n",
       "    <tr style=\"text-align: right;\">\n",
       "      <th></th>\n",
       "      <th>SCORE</th>\n",
       "    </tr>\n",
       "    <tr>\n",
       "      <th>ACTIVITY DATE</th>\n",
       "      <th></th>\n",
       "    </tr>\n",
       "  </thead>\n",
       "  <tbody>\n",
       "    <tr>\n",
       "      <th>2016</th>\n",
       "      <td>94.137656</td>\n",
       "    </tr>\n",
       "    <tr>\n",
       "      <th>2017</th>\n",
       "      <td>93.882464</td>\n",
       "    </tr>\n",
       "    <tr>\n",
       "      <th>2018</th>\n",
       "      <td>93.896916</td>\n",
       "    </tr>\n",
       "    <tr>\n",
       "      <th>2019</th>\n",
       "      <td>94.093889</td>\n",
       "    </tr>\n",
       "  </tbody>\n",
       "</table>\n",
       "</div>"
      ],
      "text/plain": [
       "                   SCORE\n",
       "ACTIVITY DATE           \n",
       "2016           94.137656\n",
       "2017           93.882464\n",
       "2018           93.896916\n",
       "2019           94.093889"
      ]
     },
     "execution_count": 105,
     "metadata": {},
     "output_type": "execute_result"
    }
   ],
   "source": [
    "#mean of inspecton score throughout the years\n",
    "\n",
    "date_score_mean = pd.DataFrame(insp.groupby(insp['ACTIVITY DATE'].dt.year).mean()['SCORE'])\n",
    "date_score_mean"
   ]
  },
  {
   "cell_type": "code",
   "execution_count": 106,
   "metadata": {},
   "outputs": [
    {
     "data": {
      "text/html": [
       "<div>\n",
       "<style scoped>\n",
       "    .dataframe tbody tr th:only-of-type {\n",
       "        vertical-align: middle;\n",
       "    }\n",
       "\n",
       "    .dataframe tbody tr th {\n",
       "        vertical-align: top;\n",
       "    }\n",
       "\n",
       "    .dataframe thead th {\n",
       "        text-align: right;\n",
       "    }\n",
       "</style>\n",
       "<table border=\"1\" class=\"dataframe\">\n",
       "  <thead>\n",
       "    <tr style=\"text-align: right;\">\n",
       "      <th></th>\n",
       "      <th>SCORE</th>\n",
       "    </tr>\n",
       "    <tr>\n",
       "      <th>ACTIVITY DATE</th>\n",
       "      <th></th>\n",
       "    </tr>\n",
       "  </thead>\n",
       "  <tbody>\n",
       "    <tr>\n",
       "      <th>2016</th>\n",
       "      <td>94.0</td>\n",
       "    </tr>\n",
       "    <tr>\n",
       "      <th>2017</th>\n",
       "      <td>94.0</td>\n",
       "    </tr>\n",
       "    <tr>\n",
       "      <th>2018</th>\n",
       "      <td>94.0</td>\n",
       "    </tr>\n",
       "    <tr>\n",
       "      <th>2019</th>\n",
       "      <td>95.0</td>\n",
       "    </tr>\n",
       "  </tbody>\n",
       "</table>\n",
       "</div>"
      ],
      "text/plain": [
       "               SCORE\n",
       "ACTIVITY DATE       \n",
       "2016            94.0\n",
       "2017            94.0\n",
       "2018            94.0\n",
       "2019            95.0"
      ]
     },
     "execution_count": 106,
     "metadata": {},
     "output_type": "execute_result"
    }
   ],
   "source": [
    "#median of inspecton score throughout the years\n",
    "\n",
    "date_score_median = pd.DataFrame(insp.groupby(insp['ACTIVITY DATE'].dt.year).median()['SCORE'])\n",
    "date_score_median"
   ]
  },
  {
   "cell_type": "code",
   "execution_count": 107,
   "metadata": {},
   "outputs": [
    {
     "data": {
      "text/html": [
       "<div>\n",
       "<style scoped>\n",
       "    .dataframe tbody tr th:only-of-type {\n",
       "        vertical-align: middle;\n",
       "    }\n",
       "\n",
       "    .dataframe tbody tr th {\n",
       "        vertical-align: top;\n",
       "    }\n",
       "\n",
       "    .dataframe thead th {\n",
       "        text-align: right;\n",
       "    }\n",
       "</style>\n",
       "<table border=\"1\" class=\"dataframe\">\n",
       "  <thead>\n",
       "    <tr style=\"text-align: right;\">\n",
       "      <th></th>\n",
       "      <th>SCORE</th>\n",
       "    </tr>\n",
       "    <tr>\n",
       "      <th>Zip Codes</th>\n",
       "      <th></th>\n",
       "    </tr>\n",
       "  </thead>\n",
       "  <tbody>\n",
       "    <tr>\n",
       "      <th>2443.0</th>\n",
       "      <td>93.243137</td>\n",
       "    </tr>\n",
       "    <tr>\n",
       "      <th>2445.0</th>\n",
       "      <td>94.830721</td>\n",
       "    </tr>\n",
       "    <tr>\n",
       "      <th>2447.0</th>\n",
       "      <td>94.098335</td>\n",
       "    </tr>\n",
       "    <tr>\n",
       "      <th>2451.0</th>\n",
       "      <td>95.308000</td>\n",
       "    </tr>\n",
       "    <tr>\n",
       "      <th>2832.0</th>\n",
       "      <td>94.589286</td>\n",
       "    </tr>\n",
       "  </tbody>\n",
       "</table>\n",
       "</div>"
      ],
      "text/plain": [
       "               SCORE\n",
       "Zip Codes           \n",
       "2443.0     93.243137\n",
       "2445.0     94.830721\n",
       "2447.0     94.098335\n",
       "2451.0     95.308000\n",
       "2832.0     94.589286"
      ]
     },
     "execution_count": 107,
     "metadata": {},
     "output_type": "execute_result"
    }
   ],
   "source": [
    "#mean of inspection scores of the various codes\n",
    "\n",
    "zip_score_mean = pd.DataFrame(insp.groupby(insp['Zip Codes']).mean()['SCORE'])\n",
    "zip_score_mean.head()"
   ]
  },
  {
   "cell_type": "code",
   "execution_count": 108,
   "metadata": {},
   "outputs": [
    {
     "data": {
      "text/html": [
       "<div>\n",
       "<style scoped>\n",
       "    .dataframe tbody tr th:only-of-type {\n",
       "        vertical-align: middle;\n",
       "    }\n",
       "\n",
       "    .dataframe tbody tr th {\n",
       "        vertical-align: top;\n",
       "    }\n",
       "\n",
       "    .dataframe thead th {\n",
       "        text-align: right;\n",
       "    }\n",
       "</style>\n",
       "<table border=\"1\" class=\"dataframe\">\n",
       "  <thead>\n",
       "    <tr style=\"text-align: right;\">\n",
       "      <th></th>\n",
       "      <th>SCORE</th>\n",
       "    </tr>\n",
       "    <tr>\n",
       "      <th>Zip Codes</th>\n",
       "      <th></th>\n",
       "    </tr>\n",
       "  </thead>\n",
       "  <tbody>\n",
       "    <tr>\n",
       "      <th>2443.0</th>\n",
       "      <td>94.0</td>\n",
       "    </tr>\n",
       "    <tr>\n",
       "      <th>2445.0</th>\n",
       "      <td>95.0</td>\n",
       "    </tr>\n",
       "    <tr>\n",
       "      <th>2447.0</th>\n",
       "      <td>95.0</td>\n",
       "    </tr>\n",
       "    <tr>\n",
       "      <th>2451.0</th>\n",
       "      <td>96.0</td>\n",
       "    </tr>\n",
       "    <tr>\n",
       "      <th>2832.0</th>\n",
       "      <td>95.0</td>\n",
       "    </tr>\n",
       "  </tbody>\n",
       "</table>\n",
       "</div>"
      ],
      "text/plain": [
       "           SCORE\n",
       "Zip Codes       \n",
       "2443.0      94.0\n",
       "2445.0      95.0\n",
       "2447.0      95.0\n",
       "2451.0      96.0\n",
       "2832.0      95.0"
      ]
     },
     "execution_count": 108,
     "metadata": {},
     "output_type": "execute_result"
    }
   ],
   "source": [
    "#median of inspection scores by various zip codes\n",
    "\n",
    "zip_score_median = pd.DataFrame(insp.groupby(insp['Zip Codes']).median()['SCORE'])\n",
    "zip_score_median.head()"
   ]
  },
  {
   "cell_type": "code",
   "execution_count": 109,
   "metadata": {
    "code_folding": []
   },
   "outputs": [
    {
     "data": {
      "text/html": [
       "<div>\n",
       "<style scoped>\n",
       "    .dataframe tbody tr th:only-of-type {\n",
       "        vertical-align: middle;\n",
       "    }\n",
       "\n",
       "    .dataframe tbody tr th {\n",
       "        vertical-align: top;\n",
       "    }\n",
       "\n",
       "    .dataframe thead th {\n",
       "        text-align: right;\n",
       "    }\n",
       "</style>\n",
       "<table border=\"1\" class=\"dataframe\">\n",
       "  <thead>\n",
       "    <tr style=\"text-align: right;\">\n",
       "      <th></th>\n",
       "      <th>SCORE</th>\n",
       "    </tr>\n",
       "    <tr>\n",
       "      <th>PE DESCRIPTION NEW</th>\n",
       "      <th></th>\n",
       "    </tr>\n",
       "  </thead>\n",
       "  <tbody>\n",
       "    <tr>\n",
       "      <th>0-10</th>\n",
       "      <td>99.000000</td>\n",
       "    </tr>\n",
       "    <tr>\n",
       "      <th>0-1999 SF</th>\n",
       "      <td>98.714286</td>\n",
       "    </tr>\n",
       "    <tr>\n",
       "      <th>0-30</th>\n",
       "      <td>94.026432</td>\n",
       "    </tr>\n",
       "    <tr>\n",
       "      <th>0-999 SQ. FT.</th>\n",
       "      <td>95.678571</td>\n",
       "    </tr>\n",
       "    <tr>\n",
       "      <th>1,000-1,999 SQ. FT.</th>\n",
       "      <td>92.952381</td>\n",
       "    </tr>\n",
       "  </tbody>\n",
       "</table>\n",
       "</div>"
      ],
      "text/plain": [
       "                         SCORE\n",
       "PE DESCRIPTION NEW            \n",
       "0-10                 99.000000\n",
       "0-1999 SF            98.714286\n",
       "0-30                 94.026432\n",
       "0-999 SQ. FT.        95.678571\n",
       "1,000-1,999 SQ. FT.  92.952381"
      ]
     },
     "execution_count": 109,
     "metadata": {},
     "output_type": "execute_result"
    }
   ],
   "source": [
    "#mean of inspection scores by seating info\n",
    "\n",
    "seat_score_mean = pd.DataFrame(insp.groupby(insp['PE DESCRIPTION NEW']).mean()['SCORE'])\n",
    "seat_score_mean.head()"
   ]
  },
  {
   "cell_type": "code",
   "execution_count": 110,
   "metadata": {},
   "outputs": [
    {
     "data": {
      "text/html": [
       "<div>\n",
       "<style scoped>\n",
       "    .dataframe tbody tr th:only-of-type {\n",
       "        vertical-align: middle;\n",
       "    }\n",
       "\n",
       "    .dataframe tbody tr th {\n",
       "        vertical-align: top;\n",
       "    }\n",
       "\n",
       "    .dataframe thead th {\n",
       "        text-align: right;\n",
       "    }\n",
       "</style>\n",
       "<table border=\"1\" class=\"dataframe\">\n",
       "  <thead>\n",
       "    <tr style=\"text-align: right;\">\n",
       "      <th></th>\n",
       "      <th>SCORE</th>\n",
       "    </tr>\n",
       "    <tr>\n",
       "      <th>PE DESCRIPTION NEW</th>\n",
       "      <th></th>\n",
       "    </tr>\n",
       "  </thead>\n",
       "  <tbody>\n",
       "    <tr>\n",
       "      <th>0-10</th>\n",
       "      <td>100.0</td>\n",
       "    </tr>\n",
       "    <tr>\n",
       "      <th>0-1999 SF</th>\n",
       "      <td>99.0</td>\n",
       "    </tr>\n",
       "    <tr>\n",
       "      <th>0-30</th>\n",
       "      <td>95.0</td>\n",
       "    </tr>\n",
       "    <tr>\n",
       "      <th>0-999 SQ. FT.</th>\n",
       "      <td>96.5</td>\n",
       "    </tr>\n",
       "    <tr>\n",
       "      <th>1,000-1,999 SQ. FT.</th>\n",
       "      <td>93.0</td>\n",
       "    </tr>\n",
       "  </tbody>\n",
       "</table>\n",
       "</div>"
      ],
      "text/plain": [
       "                     SCORE\n",
       "PE DESCRIPTION NEW        \n",
       "0-10                 100.0\n",
       "0-1999 SF             99.0\n",
       "0-30                  95.0\n",
       "0-999 SQ. FT.         96.5\n",
       "1,000-1,999 SQ. FT.   93.0"
      ]
     },
     "execution_count": 110,
     "metadata": {},
     "output_type": "execute_result"
    }
   ],
   "source": [
    "#median of inspection scores by seating info\n",
    "\n",
    "seat_score_median = pd.DataFrame(insp.groupby(insp['PE DESCRIPTION NEW']).median()['SCORE'])\n",
    "seat_score_median.head()"
   ]
  },
  {
   "cell_type": "code",
   "execution_count": 111,
   "metadata": {},
   "outputs": [],
   "source": [
    "#seat_score_mode = pd.DataFrame(insp.groupby(insp['PE DESCRIPTION NEW']).mode()['SCORE'])\n",
    "#seat_score_mode.head()"
   ]
  },
  {
   "cell_type": "code",
   "execution_count": 112,
   "metadata": {},
   "outputs": [],
   "source": [
    "#seat_score_mode = insp.groupby(by=insp['PE DESCRIPTION NEW'])\n",
    "#seat_score_mode.head()"
   ]
  },
  {
   "cell_type": "code",
   "execution_count": 113,
   "metadata": {},
   "outputs": [
    {
     "data": {
      "text/plain": [
       "ModeResult(mode=array([96.]), count=array([20966]))"
      ]
     },
     "execution_count": 113,
     "metadata": {},
     "output_type": "execute_result"
    }
   ],
   "source": [
    "stats.mode(insp['SCORE'])"
   ]
  },
  {
   "cell_type": "markdown",
   "metadata": {},
   "source": [
    "## Exploring the violations committed by the various establishments"
   ]
  },
  {
   "cell_type": "code",
   "execution_count": 114,
   "metadata": {},
   "outputs": [
    {
     "data": {
      "text/html": [
       "<div>\n",
       "<style scoped>\n",
       "    .dataframe tbody tr th:only-of-type {\n",
       "        vertical-align: middle;\n",
       "    }\n",
       "\n",
       "    .dataframe tbody tr th {\n",
       "        vertical-align: top;\n",
       "    }\n",
       "\n",
       "    .dataframe thead th {\n",
       "        text-align: right;\n",
       "    }\n",
       "</style>\n",
       "<table border=\"1\" class=\"dataframe\">\n",
       "  <thead>\n",
       "    <tr style=\"text-align: right;\">\n",
       "      <th></th>\n",
       "      <th>SERIAL NUMBER</th>\n",
       "      <th>VIOLATION  STATUS</th>\n",
       "      <th>VIOLATION CODE</th>\n",
       "      <th>VIOLATION DESCRIPTION</th>\n",
       "      <th>POINTS</th>\n",
       "    </tr>\n",
       "  </thead>\n",
       "  <tbody>\n",
       "    <tr>\n",
       "      <th>0</th>\n",
       "      <td>DA0004KIJ</td>\n",
       "      <td>OUT OF COMPLIANCE</td>\n",
       "      <td>F049</td>\n",
       "      <td># 50. Impoundment of unsanitary equipment or food</td>\n",
       "      <td>0</td>\n",
       "    </tr>\n",
       "    <tr>\n",
       "      <th>1</th>\n",
       "      <td>DA0004KIJ</td>\n",
       "      <td>OUT OF COMPLIANCE</td>\n",
       "      <td>F042</td>\n",
       "      <td># 42. Toilet facilities: properly constructed,...</td>\n",
       "      <td>1</td>\n",
       "    </tr>\n",
       "    <tr>\n",
       "      <th>2</th>\n",
       "      <td>DA0004KIJ</td>\n",
       "      <td>OUT OF COMPLIANCE</td>\n",
       "      <td>F037</td>\n",
       "      <td># 37. Adequate ventilation and lighting; desig...</td>\n",
       "      <td>1</td>\n",
       "    </tr>\n",
       "    <tr>\n",
       "      <th>3</th>\n",
       "      <td>DA0004KIJ</td>\n",
       "      <td>OUT OF COMPLIANCE</td>\n",
       "      <td>F015</td>\n",
       "      <td># 15. Food obtained from approved source</td>\n",
       "      <td>2</td>\n",
       "    </tr>\n",
       "    <tr>\n",
       "      <th>4</th>\n",
       "      <td>DA0004KIJ</td>\n",
       "      <td>OUT OF COMPLIANCE</td>\n",
       "      <td>F006</td>\n",
       "      <td># 06. Adequate handwashing facilities supplied...</td>\n",
       "      <td>2</td>\n",
       "    </tr>\n",
       "  </tbody>\n",
       "</table>\n",
       "</div>"
      ],
      "text/plain": [
       "  SERIAL NUMBER  VIOLATION  STATUS VIOLATION CODE  \\\n",
       "0     DA0004KIJ  OUT OF COMPLIANCE           F049   \n",
       "1     DA0004KIJ  OUT OF COMPLIANCE           F042   \n",
       "2     DA0004KIJ  OUT OF COMPLIANCE           F037   \n",
       "3     DA0004KIJ  OUT OF COMPLIANCE           F015   \n",
       "4     DA0004KIJ  OUT OF COMPLIANCE           F006   \n",
       "\n",
       "                               VIOLATION DESCRIPTION  POINTS  \n",
       "0  # 50. Impoundment of unsanitary equipment or food       0  \n",
       "1  # 42. Toilet facilities: properly constructed,...       1  \n",
       "2  # 37. Adequate ventilation and lighting; desig...       1  \n",
       "3           # 15. Food obtained from approved source       2  \n",
       "4  # 06. Adequate handwashing facilities supplied...       2  "
      ]
     },
     "execution_count": 114,
     "metadata": {},
     "output_type": "execute_result"
    }
   ],
   "source": [
    "viol.head()"
   ]
  },
  {
   "cell_type": "code",
   "execution_count": 115,
   "metadata": {},
   "outputs": [
    {
     "data": {
      "text/plain": [
       "OUT OF COMPLIANCE       954076\n",
       "VIOLATION                    4\n",
       "HOUSING NON-CRITICAL         1\n",
       "Name: VIOLATION  STATUS, dtype: int64"
      ]
     },
     "execution_count": 115,
     "metadata": {},
     "output_type": "execute_result"
    }
   ],
   "source": [
    "viol['VIOLATION  STATUS'].value_counts()"
   ]
  },
  {
   "cell_type": "markdown",
   "metadata": {},
   "source": [
    "VIOLATION STATUS that occurs the most is OUT OF COMPLIANCE with 954076 entries. "
   ]
  },
  {
   "cell_type": "code",
   "execution_count": 116,
   "metadata": {},
   "outputs": [
    {
     "data": {
      "text/plain": [
       "<matplotlib.axes._subplots.AxesSubplot at 0x1ed3c8abe20>"
      ]
     },
     "execution_count": 116,
     "metadata": {},
     "output_type": "execute_result"
    },
    {
     "data": {
      "image/png": "[encoded data removed]",
      "text/plain": [
       "<Figure size 432x288 with 1 Axes>"
      ]
     },
     "metadata": {
      "needs_background": "light"
     },
     "output_type": "display_data"
    }
   ],
   "source": [
    "sns.countplot(x='VIOLATION  STATUS', data=viol)"
   ]
  },
  {
   "cell_type": "code",
   "execution_count": 117,
   "metadata": {},
   "outputs": [
    {
     "data": {
      "text/plain": [
       "98"
      ]
     },
     "execution_count": 117,
     "metadata": {},
     "output_type": "execute_result"
    }
   ],
   "source": [
    "viol['VIOLATION CODE'].nunique()"
   ]
  },
  {
   "cell_type": "markdown",
   "metadata": {},
   "source": [
    "There are 98 unique objects in VIOLATION CODE. That means there are 98 different possible violations. With the right size a countplot can be plotted to visualize how many times a specific violation is committed."
   ]
  },
  {
   "cell_type": "code",
   "execution_count": 118,
   "metadata": {},
   "outputs": [
    {
     "data": {
      "text/plain": [
       "<matplotlib.axes._subplots.AxesSubplot at 0x1ed23ef4e80>"
      ]
     },
     "execution_count": 118,
     "metadata": {},
     "output_type": "execute_result"
    },
    {
     "data": {
      "image/png": "[encoded data removed]",
      "text/plain": [
       "<Figure size 1800x720 with 1 Axes>"
      ]
     },
     "metadata": {
      "needs_background": "light"
     },
     "output_type": "display_data"
    }
   ],
   "source": [
    "plt.figure(figsize=(25,10))\n",
    "plt.xticks(rotation=90)\n",
    "sns.countplot(x='VIOLATION CODE', data=viol)"
   ]
  },
  {
   "cell_type": "markdown",
   "metadata": {},
   "source": [
    "## Checking for a correlation between Violations committed by vendor and their Zip Codes"
   ]
  },
  {
   "cell_type": "code",
   "execution_count": 119,
   "metadata": {},
   "outputs": [
    {
     "data": {
      "text/html": [
       "<div>\n",
       "<style scoped>\n",
       "    .dataframe tbody tr th:only-of-type {\n",
       "        vertical-align: middle;\n",
       "    }\n",
       "\n",
       "    .dataframe tbody tr th {\n",
       "        vertical-align: top;\n",
       "    }\n",
       "\n",
       "    .dataframe thead th {\n",
       "        text-align: right;\n",
       "    }\n",
       "</style>\n",
       "<table border=\"1\" class=\"dataframe\">\n",
       "  <thead>\n",
       "    <tr style=\"text-align: right;\">\n",
       "      <th></th>\n",
       "      <th>ACTIVITY DATE</th>\n",
       "      <th>OWNER ID</th>\n",
       "      <th>OWNER NAME</th>\n",
       "      <th>FACILITY ID</th>\n",
       "      <th>FACILITY NAME</th>\n",
       "      <th>RECORD ID</th>\n",
       "      <th>PROGRAM NAME</th>\n",
       "      <th>PROGRAM STATUS</th>\n",
       "      <th>PROGRAM ELEMENT (PE)</th>\n",
       "      <th>PE DESCRIPTION</th>\n",
       "      <th>...</th>\n",
       "      <th>Location</th>\n",
       "      <th>2011 Supervisorial District Boundaries (Official)</th>\n",
       "      <th>Census Tracts 2010</th>\n",
       "      <th>Board Approved Statistical Areas</th>\n",
       "      <th>Zip Codes</th>\n",
       "      <th>PE DESCRIPTION NEW</th>\n",
       "      <th>VIOLATION  STATUS</th>\n",
       "      <th>VIOLATION CODE</th>\n",
       "      <th>VIOLATION DESCRIPTION</th>\n",
       "      <th>POINTS</th>\n",
       "    </tr>\n",
       "  </thead>\n",
       "  <tbody>\n",
       "    <tr>\n",
       "      <th>0</th>\n",
       "      <td>2018-08-23</td>\n",
       "      <td>OW0000809</td>\n",
       "      <td>31</td>\n",
       "      <td>FA0019645</td>\n",
       "      <td>DREAM DINNERS</td>\n",
       "      <td>PR0045642</td>\n",
       "      <td>DREAM DINNERS</td>\n",
       "      <td>ACTIVE</td>\n",
       "      <td>1631</td>\n",
       "      <td>RESTAURANT  SEATS MODERATE RISK</td>\n",
       "      <td>...</td>\n",
       "      <td>POINT (-118.36927 33.826754)</td>\n",
       "      <td>4.0</td>\n",
       "      <td>820.0</td>\n",
       "      <td>102.0</td>\n",
       "      <td>25719.0</td>\n",
       "      <td>0-30</td>\n",
       "      <td>OUT OF COMPLIANCE</td>\n",
       "      <td>F048</td>\n",
       "      <td># 47. Permits Available</td>\n",
       "      <td>1.0</td>\n",
       "    </tr>\n",
       "    <tr>\n",
       "      <th>1</th>\n",
       "      <td>2018-08-23</td>\n",
       "      <td>OW0000809</td>\n",
       "      <td>31</td>\n",
       "      <td>FA0019645</td>\n",
       "      <td>DREAM DINNERS</td>\n",
       "      <td>PR0045642</td>\n",
       "      <td>DREAM DINNERS</td>\n",
       "      <td>ACTIVE</td>\n",
       "      <td>1631</td>\n",
       "      <td>RESTAURANT  SEATS MODERATE RISK</td>\n",
       "      <td>...</td>\n",
       "      <td>POINT (-118.36927 33.826754)</td>\n",
       "      <td>4.0</td>\n",
       "      <td>820.0</td>\n",
       "      <td>102.0</td>\n",
       "      <td>25719.0</td>\n",
       "      <td>0-30</td>\n",
       "      <td>OUT OF COMPLIANCE</td>\n",
       "      <td>F046</td>\n",
       "      <td># 46. Signs posted; last inspection report ava...</td>\n",
       "      <td>1.0</td>\n",
       "    </tr>\n",
       "    <tr>\n",
       "      <th>2</th>\n",
       "      <td>2018-08-23</td>\n",
       "      <td>OW0000809</td>\n",
       "      <td>31</td>\n",
       "      <td>FA0019645</td>\n",
       "      <td>DREAM DINNERS</td>\n",
       "      <td>PR0045642</td>\n",
       "      <td>DREAM DINNERS</td>\n",
       "      <td>ACTIVE</td>\n",
       "      <td>1631</td>\n",
       "      <td>RESTAURANT  SEATS MODERATE RISK</td>\n",
       "      <td>...</td>\n",
       "      <td>POINT (-118.36927 33.826754)</td>\n",
       "      <td>4.0</td>\n",
       "      <td>820.0</td>\n",
       "      <td>102.0</td>\n",
       "      <td>25719.0</td>\n",
       "      <td>0-30</td>\n",
       "      <td>OUT OF COMPLIANCE</td>\n",
       "      <td>F033</td>\n",
       "      <td># 33. Nonfood-contact surfaces clean and in go...</td>\n",
       "      <td>1.0</td>\n",
       "    </tr>\n",
       "    <tr>\n",
       "      <th>3</th>\n",
       "      <td>2017-12-06</td>\n",
       "      <td>OW0000809</td>\n",
       "      <td>31</td>\n",
       "      <td>FA0019645</td>\n",
       "      <td>DREAM DINNERS</td>\n",
       "      <td>PR0045642</td>\n",
       "      <td>DREAM DINNERS</td>\n",
       "      <td>ACTIVE</td>\n",
       "      <td>1631</td>\n",
       "      <td>RESTAURANT  SEATS MODERATE RISK</td>\n",
       "      <td>...</td>\n",
       "      <td>POINT (-118.36927 33.826754)</td>\n",
       "      <td>4.0</td>\n",
       "      <td>820.0</td>\n",
       "      <td>102.0</td>\n",
       "      <td>25719.0</td>\n",
       "      <td>0-30</td>\n",
       "      <td>OUT OF COMPLIANCE</td>\n",
       "      <td>F048</td>\n",
       "      <td># 47. Permits Available</td>\n",
       "      <td>1.0</td>\n",
       "    </tr>\n",
       "    <tr>\n",
       "      <th>4</th>\n",
       "      <td>2017-12-06</td>\n",
       "      <td>OW0000809</td>\n",
       "      <td>31</td>\n",
       "      <td>FA0019645</td>\n",
       "      <td>DREAM DINNERS</td>\n",
       "      <td>PR0045642</td>\n",
       "      <td>DREAM DINNERS</td>\n",
       "      <td>ACTIVE</td>\n",
       "      <td>1631</td>\n",
       "      <td>RESTAURANT  SEATS MODERATE RISK</td>\n",
       "      <td>...</td>\n",
       "      <td>POINT (-118.36927 33.826754)</td>\n",
       "      <td>4.0</td>\n",
       "      <td>820.0</td>\n",
       "      <td>102.0</td>\n",
       "      <td>25719.0</td>\n",
       "      <td>0-30</td>\n",
       "      <td>OUT OF COMPLIANCE</td>\n",
       "      <td>F044</td>\n",
       "      <td># 44. Floors, walls and ceilings: properly bui...</td>\n",
       "      <td>1.0</td>\n",
       "    </tr>\n",
       "  </tbody>\n",
       "</table>\n",
       "<p>5 rows × 30 columns</p>\n",
       "</div>"
      ],
      "text/plain": [
       "  ACTIVITY DATE   OWNER ID OWNER NAME FACILITY ID  FACILITY NAME  RECORD ID  \\\n",
       "0    2018-08-23  OW0000809         31   FA0019645  DREAM DINNERS  PR0045642   \n",
       "1    2018-08-23  OW0000809         31   FA0019645  DREAM DINNERS  PR0045642   \n",
       "2    2018-08-23  OW0000809         31   FA0019645  DREAM DINNERS  PR0045642   \n",
       "3    2017-12-06  OW0000809         31   FA0019645  DREAM DINNERS  PR0045642   \n",
       "4    2017-12-06  OW0000809         31   FA0019645  DREAM DINNERS  PR0045642   \n",
       "\n",
       "    PROGRAM NAME PROGRAM STATUS  PROGRAM ELEMENT (PE)  \\\n",
       "0  DREAM DINNERS         ACTIVE                  1631   \n",
       "1  DREAM DINNERS         ACTIVE                  1631   \n",
       "2  DREAM DINNERS         ACTIVE                  1631   \n",
       "3  DREAM DINNERS         ACTIVE                  1631   \n",
       "4  DREAM DINNERS         ACTIVE                  1631   \n",
       "\n",
       "                    PE DESCRIPTION  ...                      Location  \\\n",
       "0  RESTAURANT  SEATS MODERATE RISK  ...  POINT (-118.36927 33.826754)   \n",
       "1  RESTAURANT  SEATS MODERATE RISK  ...  POINT (-118.36927 33.826754)   \n",
       "2  RESTAURANT  SEATS MODERATE RISK  ...  POINT (-118.36927 33.826754)   \n",
       "3  RESTAURANT  SEATS MODERATE RISK  ...  POINT (-118.36927 33.826754)   \n",
       "4  RESTAURANT  SEATS MODERATE RISK  ...  POINT (-118.36927 33.826754)   \n",
       "\n",
       "  2011 Supervisorial District Boundaries (Official) Census Tracts 2010  \\\n",
       "0                                               4.0              820.0   \n",
       "1                                               4.0              820.0   \n",
       "2                                               4.0              820.0   \n",
       "3                                               4.0              820.0   \n",
       "4                                               4.0              820.0   \n",
       "\n",
       "  Board Approved Statistical Areas  Zip Codes PE DESCRIPTION NEW  \\\n",
       "0                            102.0    25719.0               0-30   \n",
       "1                            102.0    25719.0               0-30   \n",
       "2                            102.0    25719.0               0-30   \n",
       "3                            102.0    25719.0               0-30   \n",
       "4                            102.0    25719.0               0-30   \n",
       "\n",
       "   VIOLATION  STATUS VIOLATION CODE  \\\n",
       "0  OUT OF COMPLIANCE           F048   \n",
       "1  OUT OF COMPLIANCE           F046   \n",
       "2  OUT OF COMPLIANCE           F033   \n",
       "3  OUT OF COMPLIANCE           F048   \n",
       "4  OUT OF COMPLIANCE           F044   \n",
       "\n",
       "                               VIOLATION DESCRIPTION POINTS  \n",
       "0                            # 47. Permits Available    1.0  \n",
       "1  # 46. Signs posted; last inspection report ava...    1.0  \n",
       "2  # 33. Nonfood-contact surfaces clean and in go...    1.0  \n",
       "3                            # 47. Permits Available    1.0  \n",
       "4  # 44. Floors, walls and ceilings: properly bui...    1.0  \n",
       "\n",
       "[5 rows x 30 columns]"
      ]
     },
     "execution_count": 119,
     "metadata": {},
     "output_type": "execute_result"
    }
   ],
   "source": [
    "#merging inspections and violations on SERIAL NUMBER \n",
    "\n",
    "merged_df = insp.merge(viol, how=\"left\", on=\"SERIAL NUMBER\")\n",
    "merged_df.head()"
   ]
  },
  {
   "cell_type": "code",
   "execution_count": 120,
   "metadata": {},
   "outputs": [
    {
     "data": {
      "text/html": [
       "<div>\n",
       "<style scoped>\n",
       "    .dataframe tbody tr th:only-of-type {\n",
       "        vertical-align: middle;\n",
       "    }\n",
       "\n",
       "    .dataframe tbody tr th {\n",
       "        vertical-align: top;\n",
       "    }\n",
       "\n",
       "    .dataframe thead th {\n",
       "        text-align: right;\n",
       "    }\n",
       "</style>\n",
       "<table border=\"1\" class=\"dataframe\">\n",
       "  <thead>\n",
       "    <tr style=\"text-align: right;\">\n",
       "      <th></th>\n",
       "      <th>VIOLATION CODE</th>\n",
       "    </tr>\n",
       "    <tr>\n",
       "      <th>Zip Codes</th>\n",
       "      <th></th>\n",
       "    </tr>\n",
       "  </thead>\n",
       "  <tbody>\n",
       "    <tr>\n",
       "      <th>2443.0</th>\n",
       "      <td>1298</td>\n",
       "    </tr>\n",
       "    <tr>\n",
       "      <th>2445.0</th>\n",
       "      <td>2614</td>\n",
       "    </tr>\n",
       "    <tr>\n",
       "      <th>2447.0</th>\n",
       "      <td>5535</td>\n",
       "    </tr>\n",
       "    <tr>\n",
       "      <th>2451.0</th>\n",
       "      <td>911</td>\n",
       "    </tr>\n",
       "    <tr>\n",
       "      <th>2832.0</th>\n",
       "      <td>1933</td>\n",
       "    </tr>\n",
       "  </tbody>\n",
       "</table>\n",
       "</div>"
      ],
      "text/plain": [
       "           VIOLATION CODE\n",
       "Zip Codes                \n",
       "2443.0               1298\n",
       "2445.0               2614\n",
       "2447.0               5535\n",
       "2451.0                911\n",
       "2832.0               1933"
      ]
     },
     "execution_count": 120,
     "metadata": {},
     "output_type": "execute_result"
    }
   ],
   "source": [
    "#creating a new dataframe from merged_df by grouping by Zip Codes and counting Violations per Zip Code\n",
    "\n",
    "zip_group = pd.DataFrame(merged_df.groupby(by='Zip Codes', as_index=True).count()['VIOLATION CODE'])\n",
    "zip_group.head()"
   ]
  },
  {
   "cell_type": "code",
   "execution_count": 121,
   "metadata": {},
   "outputs": [
    {
     "data": {
      "text/html": [
       "<div>\n",
       "<style scoped>\n",
       "    .dataframe tbody tr th:only-of-type {\n",
       "        vertical-align: middle;\n",
       "    }\n",
       "\n",
       "    .dataframe tbody tr th {\n",
       "        vertical-align: top;\n",
       "    }\n",
       "\n",
       "    .dataframe thead th {\n",
       "        text-align: right;\n",
       "    }\n",
       "</style>\n",
       "<table border=\"1\" class=\"dataframe\">\n",
       "  <thead>\n",
       "    <tr style=\"text-align: right;\">\n",
       "      <th></th>\n",
       "      <th>Zip Codes</th>\n",
       "      <th>VIOLATION CODE</th>\n",
       "    </tr>\n",
       "  </thead>\n",
       "  <tbody>\n",
       "    <tr>\n",
       "      <th>0</th>\n",
       "      <td>2443.0</td>\n",
       "      <td>1298</td>\n",
       "    </tr>\n",
       "    <tr>\n",
       "      <th>1</th>\n",
       "      <td>2445.0</td>\n",
       "      <td>2614</td>\n",
       "    </tr>\n",
       "    <tr>\n",
       "      <th>2</th>\n",
       "      <td>2447.0</td>\n",
       "      <td>5535</td>\n",
       "    </tr>\n",
       "    <tr>\n",
       "      <th>3</th>\n",
       "      <td>2451.0</td>\n",
       "      <td>911</td>\n",
       "    </tr>\n",
       "    <tr>\n",
       "      <th>4</th>\n",
       "      <td>2832.0</td>\n",
       "      <td>1933</td>\n",
       "    </tr>\n",
       "  </tbody>\n",
       "</table>\n",
       "</div>"
      ],
      "text/plain": [
       "   Zip Codes  VIOLATION CODE\n",
       "0     2443.0            1298\n",
       "1     2445.0            2614\n",
       "2     2447.0            5535\n",
       "3     2451.0             911\n",
       "4     2832.0            1933"
      ]
     },
     "execution_count": 121,
     "metadata": {},
     "output_type": "execute_result"
    }
   ],
   "source": [
    "#resetting index\n",
    "\n",
    "zip_group.reset_index(inplace=True)\n",
    "zip_group.head()"
   ]
  },
  {
   "cell_type": "code",
   "execution_count": 122,
   "metadata": {},
   "outputs": [
    {
     "data": {
      "text/html": [
       "<div>\n",
       "<style scoped>\n",
       "    .dataframe tbody tr th:only-of-type {\n",
       "        vertical-align: middle;\n",
       "    }\n",
       "\n",
       "    .dataframe tbody tr th {\n",
       "        vertical-align: top;\n",
       "    }\n",
       "\n",
       "    .dataframe thead th {\n",
       "        text-align: right;\n",
       "    }\n",
       "</style>\n",
       "<table border=\"1\" class=\"dataframe\">\n",
       "  <thead>\n",
       "    <tr style=\"text-align: right;\">\n",
       "      <th></th>\n",
       "      <th>Zip Code</th>\n",
       "      <th>Violations Committed</th>\n",
       "    </tr>\n",
       "  </thead>\n",
       "  <tbody>\n",
       "    <tr>\n",
       "      <th>0</th>\n",
       "      <td>2443.0</td>\n",
       "      <td>1298</td>\n",
       "    </tr>\n",
       "    <tr>\n",
       "      <th>1</th>\n",
       "      <td>2445.0</td>\n",
       "      <td>2614</td>\n",
       "    </tr>\n",
       "    <tr>\n",
       "      <th>2</th>\n",
       "      <td>2447.0</td>\n",
       "      <td>5535</td>\n",
       "    </tr>\n",
       "    <tr>\n",
       "      <th>3</th>\n",
       "      <td>2451.0</td>\n",
       "      <td>911</td>\n",
       "    </tr>\n",
       "    <tr>\n",
       "      <th>4</th>\n",
       "      <td>2832.0</td>\n",
       "      <td>1933</td>\n",
       "    </tr>\n",
       "  </tbody>\n",
       "</table>\n",
       "</div>"
      ],
      "text/plain": [
       "   Zip Code  Violations Committed\n",
       "0    2443.0                  1298\n",
       "1    2445.0                  2614\n",
       "2    2447.0                  5535\n",
       "3    2451.0                   911\n",
       "4    2832.0                  1933"
      ]
     },
     "execution_count": 122,
     "metadata": {},
     "output_type": "execute_result"
    }
   ],
   "source": [
    "#renaming columns \n",
    "\n",
    "zip_group.columns = ['Zip Code','Violations Committed']\n",
    "zip_group.head()"
   ]
  },
  {
   "cell_type": "code",
   "execution_count": 124,
   "metadata": {},
   "outputs": [
    {
     "data": {
      "text/plain": [
       "<matplotlib.collections.PathCollection at 0x1ed28cf6700>"
      ]
     },
     "execution_count": 124,
     "metadata": {},
     "output_type": "execute_result"
    },
    {
     "data": {
      "image/png": "[encoded data removed]",
      "text/plain": [
       "<Figure size 432x288 with 1 Axes>"
      ]
     },
     "metadata": {
      "needs_background": "light"
     },
     "output_type": "display_data"
    }
   ],
   "source": [
    "#plotting a scatter plot to check for correlation\n",
    "\n",
    "x = zip_group['Zip Code']\n",
    "y = zip_group['Violations Committed']\n",
    "\n",
    "plt.scatter(x,y)"
   ]
  },
  {
   "cell_type": "code",
   "execution_count": 125,
   "metadata": {},
   "outputs": [
    {
     "data": {
      "text/plain": [
       "0.16960124611287977"
      ]
     },
     "execution_count": 125,
     "metadata": {},
     "output_type": "execute_result"
    }
   ],
   "source": [
    "x.corr(y)"
   ]
  },
  {
   "cell_type": "code",
   "execution_count": null,
   "metadata": {},
   "outputs": [],
   "source": []
  }
 ],
 "metadata": {
  "kernelspec": {
   "display_name": "Python 3.7.6 64-bit ('base': conda)",
   "language": "python",
   "name": "python37664bitbaseconda739455abeae94232adc122ace92151cb"
  },
  "language_info": {
   "codemirror_mode": {
    "name": "ipython",
    "version": 3
   },
   "file_extension": ".py",
   "mimetype": "text/x-python",
   "name": "python",
   "nbconvert_exporter": "python",
   "pygments_lexer": "ipython3",
   "version": "3.8.3"
  }
 },
 "nbformat": 4,
 "nbformat_minor": 4
}
